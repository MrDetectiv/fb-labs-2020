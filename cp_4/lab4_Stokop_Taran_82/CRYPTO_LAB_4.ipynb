{
 "cells": [
  {
   "cell_type": "code",
   "execution_count": 4,
   "metadata": {
    "ExecuteTime": {
     "end_time": "2020-12-07T18:13:01.134055Z",
     "start_time": "2020-12-07T18:13:01.128058Z"
    }
   },
   "outputs": [],
   "source": [
    "import random, sys, math\n",
    "import random\n",
    "\n",
    "def gcd_evkl(a, b):    \n",
    "    if a == 0:\n",
    "        return (b, 0, 1)\n",
    "    else:\n",
    "        g, x, y = gcd_evkl(b % a, a)    #g - наибольший общий делитель;\n",
    "                                        #x,y - такие, что ax+by=d\n",
    "        return (g, y - (b // a) * x, x)"
   ]
  },
  {
   "cell_type": "code",
   "execution_count": 5,
   "metadata": {
    "ExecuteTime": {
     "end_time": "2020-12-07T18:13:01.677642Z",
     "start_time": "2020-12-07T18:13:01.672644Z"
    }
   },
   "outputs": [],
   "source": [
    "def gcd(a, b):\n",
    "    gcd, x,y = gcd_evkl(a,b);\n",
    "    return gcd"
   ]
  },
  {
   "cell_type": "code",
   "execution_count": 6,
   "metadata": {
    "ExecuteTime": {
     "end_time": "2020-12-07T18:13:02.123280Z",
     "start_time": "2020-12-07T18:13:02.117286Z"
    }
   },
   "outputs": [],
   "source": [
    "#b mod(n)\n",
    "def find_inv(b, n):     #_ = 0 => bx mod n + 0 = g\n",
    "                        #если g = 1, обратный к b  \n",
    "    g, x, _ = gcd_evkl(b, n)\n",
    "    if g == 1:\n",
    "        return x % n\n",
    "    else:\n",
    "        return print('there is no inverse element')"
   ]
  },
  {
   "cell_type": "code",
   "execution_count": 7,
   "metadata": {
    "ExecuteTime": {
     "end_time": "2020-12-07T18:13:02.584134Z",
     "start_time": "2020-12-07T18:13:02.571142Z"
    }
   },
   "outputs": [],
   "source": [
    "def Func_Miller_Rabin(n):   \n",
    "    if (n == 2 or n == 3):\n",
    "        return True\n",
    "    if (n < 2 or n % 2 == 0):\n",
    "        return False\n",
    "    else:\n",
    "        s=0 #Крок 0\n",
    "        t=n-1\n",
    "        while t%2==0:\n",
    "            t//=2\n",
    "            s+=1\n",
    "        for k in range( 5 ):\n",
    "            a= random.randint(2, n-1)\n",
    "            x=pow(a, t, n)\n",
    "            if (x==1 or x==n-1): continue\n",
    "            else:\n",
    "                for i in range (0,s-1,1):\n",
    "                    x=pow(x,2,n)\n",
    "                    if x==n-1: break\n",
    "                else: return False\n",
    "        return True\n"
   ]
  },
  {
   "cell_type": "code",
   "execution_count": 8,
   "metadata": {
    "ExecuteTime": {
     "end_time": "2020-12-07T18:13:03.237063Z",
     "start_time": "2020-12-07T18:13:03.231065Z"
    }
   },
   "outputs": [],
   "source": [
    "def Test_Miller_Rabin(n):\n",
    "    for i in [2, 3, 5, 7, 11]:\n",
    "        if gcd(i, n) > 1:            \n",
    "            return False\n",
    "\n",
    "    if Func_Miller_Rabin(n)==False: \n",
    "        print(f'{hex(n)} is not prime number ')\n",
    "        return False\n",
    "    return n\n"
   ]
  },
  {
   "cell_type": "code",
   "execution_count": 9,
   "metadata": {
    "ExecuteTime": {
     "end_time": "2020-12-07T18:13:03.826151Z",
     "start_time": "2020-12-07T18:13:03.819154Z"
    }
   },
   "outputs": [],
   "source": [
    "def Generating_Random_Number():\n",
    "    number=2**(255)\n",
    "    for i in range(1,255,1):\n",
    "        b=random.randint(0,1)\n",
    "        number+=((2**i)*b)\n",
    "    number+=1\n",
    "    while Test_Miller_Rabin(number)==False:\n",
    "        number=Generating_Random_Number()\n",
    "    return number"
   ]
  },
  {
   "cell_type": "code",
   "execution_count": 15,
   "metadata": {
    "ExecuteTime": {
     "end_time": "2020-12-07T18:13:04.307876Z",
     "start_time": "2020-12-07T18:13:04.303873Z"
    }
   },
   "outputs": [],
   "source": [
    "pairs=[]"
   ]
  },
  {
   "cell_type": "markdown",
   "metadata": {},
   "source": [
    "# pair p and q for Alice:"
   ]
  },
  {
   "cell_type": "code",
   "execution_count": 16,
   "metadata": {
    "ExecuteTime": {
     "end_time": "2020-12-07T18:13:06.679685Z",
     "start_time": "2020-12-07T18:13:05.538986Z"
    }
   },
   "outputs": [
    {
     "name": "stdout",
     "output_type": "stream",
     "text": [
      "0xf746c2f882970f24b801921655f6c1c2c0097a768cd0bc238ba0eafd8d8580c7 is not prime number \n",
      "0x9542a738990b1ceec5db62cd4a3701a58b20e0651e3fe91217ac7cb6359abd6d is not prime number \n",
      "0x9abea9d37a1772a6e2502aecb021ec443925760eb642bb733a8d845381bbcd4f is not prime number \n",
      "0xe0b97906833c19d99135ca8730d6421009353fbdba3d4f0e821c49f0875ad78d is not prime number \n",
      "0xb67395b06038ceae7d510bd01f023982ef90f2b8ded7eaf7e456e3427305c0b1 is not prime number \n",
      "0xf1f145d904f2fc243636ca057d75083535a42d9bdf09d4d4f4f9c05c6bfae709 is not prime number \n",
      "0xe1449c293bc2c5762ffb8d0a18ac6616f01aa0a4c39e10828b56c3a2de4a8b59 is not prime number \n",
      "0xf9e2d53b7a9b1dd19fc3a002a99d2607ef26bdf8e918e77391699d259d492ef7 is not prime number \n",
      "0xe321b09cb6f74519f1c1765677b91aebdac9ad873f5cbe66c7f65e97243b6005 is not prime number \n",
      "0xf463290afe3a6d26a80bdefd1a640172ebaa16694b60ed3c8f34ee13bab380d1 is not prime number \n",
      "0xbbaf6b2fe19407cc9e861ae748a2c3c1b8db89ae1ce0a6fcc5d7591b838ddb59 is not prime number \n",
      "0x82eb137f6df36f123477cc7cc7003983bbf91fbc764192e9bd020164d879d227 is not prime number \n",
      "0xe6cb1142866e0263474db657791dcd6b977c3d872502a1fcfede0a1b4f2cd523 is not prime number \n",
      "0x9fddcdaf143d6ae49d16ba1d1c72dfe1443572d2d1a85dd987910b8bb8432c15 is not prime number \n",
      "0xdf98e9016a7320cf60d1bb581bbf10a21a554f0bd8d84aeeae38aa9b8e31f6e5 is not prime number \n",
      "0xfeab39ad38b7eafb39cebf60a441eeb15afe73b0e6f865702d655e16ff9a57ff is not prime number \n",
      "0x8a17c0a2b49f27d2db3a32446b23e3e36063e85f7e33d375f39ab544066c73bb is not prime number \n",
      "0xb244b284956ab8f8d1175317a15974b65166b1ba72bac7b719b66cdb506a5a1f is not prime number \n",
      "0xefed88606b735c295450a3c7be1d127b58e9aed3dedd8c32ca210b64754a1e59 is not prime number \n",
      "0xe49de9aadac703a24844e1262f4c6fa94ecd9889973039548908181e3cae7293 is not prime number \n",
      "0x817e4cf43c82c334d3533727a0cc03829392334ab3bd9d4c77569aa32fb37fe9 is not prime number \n",
      "0x85ee519954641ab2772f1dbe6a132389e2743fb5ae851088295b0999c9b282b7 is not prime number \n",
      "0xc78f32ed41b0d0b871ef406e9f90625fbab305deeaf571605ec24b48896828bd is not prime number \n",
      "0xbfd0df29855cfa5d1414814ac27a6620c2e88663e24d043d42daff995ea1216f is not prime number \n",
      "0xb991a205f98c82329836ca685d50024cf6a5cca798701c94992d985c5e5c3673 is not prime number \n",
      "0xbc3e99bc1d5da4cd3beb5a4d87af1a33fc313881537e6b0523f4eeb7180a0695 is not prime number \n",
      "0xcde8c3d55528445dbabeccdf3e9ae4351bfadb52d5b6be41563fd5a6369b7555 is not prime number \n",
      "0x8afdb58edf1e89191afb49fb5a7e6f1f88a80da02fe54a1191a7306dfbcd776f is not prime number \n",
      "0xe7b9e352d6d2677f5f57bf4419a0e2964b0ca545ace93763cfb3bc5a735fa96b is not prime number \n",
      "0x9093b8afb1011d0749b1c9514b239287715eafc5185af0342e5c37ff48717921 is not prime number \n",
      "0x88ef18f83d09ab5b156bee28047f2da916c8d5c3ccaab7e87e4496cfd3441b2d is not prime number \n",
      "0xdfb85156c1c3570db52d956d866c2da2928db67b6d8c1b4d5a9dc61ff7c9a4f5 is not prime number \n",
      "0xebecd7555794c0466727ad1a8fdfdb1d5f8d30475a3340b3d8af333c552e26e9 is not prime number \n",
      "0xfa6044c912838d51a29b79e96ec410b3ef3d7245208faf563ed21c17b65616e3 is not prime number \n",
      "0xfa39c5a75ab6a07f03c6c2302df0fc8e8c035139ba29cde90f5bbda3ffcc6019 is not prime number \n",
      "0x9ef8afee1cda337475da4382164c2ba772b4bd57f5ec50d68b4955ea0f89c219 is not prime number \n",
      "0xf1414d0cc2afe366c29e385bf0025d71795bbf784aa6a908180ab9ecbda1e145 is not prime number \n",
      "0xea02467aab8e66ac2d361abad01ab1436e4a6e87e84a27953d3a766a629c09d1 is not prime number \n",
      "0xb60bf338e3862e06928511a209be7e351e1125094d2561afa4a0cb35b42c5f4b is not prime number \n",
      "0xb44334414f4eafbc7fabcd3ed2b0cb0c9e768fc9a06159c359184f1a44b2959f is not prime number \n",
      "0xa401d7b58d1ea4641751976da388c19bc1a6a3d8c82e7303f53356e3fd81462b is not prime number \n",
      "0xf884494b200ae81a4e5afe020935bdab9d430c4fc2ab86b36c278560665d12c3 is not prime number \n",
      "0xd0436ad9fb0cdf6eb5b5834ea15ff1b70239cb28ba6e1fa988bdec652149c8b7 is not prime number \n",
      "0xe7b4ce32118d96d09312b2a3714653831b3cc30ede0be539e99ac4fb351f8885 is not prime number \n",
      "0x95aacabd825b9204b08108fee166b05a43ebb1b4f02ab39fbea3bbf478c74489 is not prime number \n",
      "0xb9b8b322214ec78700033d33e19e565ca309e43d5c3a9acc0d207cf7b790b871 is not prime number \n",
      "0xeef77e02a8b750064e4a7f604dc8ceae667590a69b69470d63b5e8f4acbf6a6f is not prime number \n",
      "0xe421d374ad65e99003cdaf9f62059bbd6b6556a7decfd1c971e2e83226703649 is not prime number \n",
      "0x948122cbfce01c4b3afcd8a93c17e54acfafc78e67250c1c3d0e73e963df0199 is not prime number \n",
      "0xc234b822d82a86217c941e66f64677fc373f8aeae0b5585362166d01b634a3cd is not prime number \n",
      "0xdab81092ee2fb0b7d2ef12a4616500ca51780600137b3a0190faa1f9522ef145 is not prime number \n",
      "0xfa4bfb1059848e473aa68bc07263d13bf8e50f11b8cf974f77067b9454adb837 is not prime number \n",
      "0xdfddf239a91544faba42f6ef871d03196887259bdb2a240411235415a262eae1 is not prime number \n",
      "0xb87babeed2c5c857bf8d38c81fcf1922825238b2462c0710d918ab051bf48aff is not prime number \n",
      "Pair p and q for Alice: 0xbc4305809649bcf1089534180c0e018e4bf061ad4848e617c23b1ded03506d35 0xa58c5a3b25fa017021cce0d1b5ac3e4ed14724d6632359653489b5f5da52364d\n"
     ]
    }
   ],
   "source": [
    "pairs.append([Generating_Random_Number(), Generating_Random_Number()])\n",
    "print('Pair p and q for Alice:', hex(pairs[0][0]), hex(pairs[0][1]))"
   ]
  },
  {
   "cell_type": "markdown",
   "metadata": {},
   "source": [
    "# pair p and q for Bob:"
   ]
  },
  {
   "cell_type": "code",
   "execution_count": 18,
   "metadata": {
    "ExecuteTime": {
     "end_time": "2020-12-07T18:13:08.833007Z",
     "start_time": "2020-12-07T18:13:08.338293Z"
    }
   },
   "outputs": [
    {
     "name": "stdout",
     "output_type": "stream",
     "text": [
      "0xf8ba47629a2f40ee114e6ea24a83f6927c59a13f36fef9b7f92c1193392b8261 is not prime number \n",
      "0xee01df0fb88064972837f94340c97f22702b27d373c63cbf1c2857ba32c7ffff is not prime number \n",
      "0xc73596cb365df6f6c9f47c060fe403cf01b2172e49099ab54e6fe49710c8968d is not prime number \n",
      "0xb83726dc0fe98f2d7e1a6aa339bfe01bf21e642ec44a1f1c7add11276c13d94b is not prime number \n",
      "0x8676b0f396bcb1ccbfd6aa5db56182afd5c9959da98d388136602fd250cdca75 is not prime number \n",
      "0xd55a59edd53da68bd942a6fab51fe7c1880ef9d9c72e2b56ab47352f5cff3c93 is not prime number \n",
      "0x949fcf609ac9b8a9df22c74b60061db5bd18225aad7d5d56007609c6080b8379 is not prime number \n",
      "0xa238dad67592e1519254331f92762d145f54f3000ac4bc1c1932f5a69a96abdb is not prime number \n",
      "0xcf6edd284c6b8e5f907d64a8c61feb15ddc90c90c2761de378792334221da365 is not prime number \n",
      "0xd97b02279c4305cd8c5f9b914042285f05058d85ba3bdd6b4d102b59d4887ddf is not prime number \n",
      "0xe77d927bfef4ce0eb04fb95b59b0166d0202e14e9dee2e6a140200537097d4a5 is not prime number \n",
      "0x8d04ad56180aecf12b84c3bc20c4197ec3ef9a45139eda7e928112d4ec8798f3 is not prime number \n",
      "0xd02cbd0c22b867d78f8df2a19f4926364a8ee65e50ea7b74591d972f3873b659 is not prime number \n",
      "0x95d9277388d9bd97084b06b43db4cf87c9cb07bfcc6d329c02ae9902d607cbe1 is not prime number \n",
      "0xbc825be0b892a89686bd8fcc42cecbd149926d325ebc000e1c5d5f4acb565491 is not prime number \n",
      "0xd72f0252d720eee55a6fc595dc5ef2b5e4d1505e90fda021139e7f294d6e825b is not prime number \n",
      "0x814a45f90402cc9eb1b92df921c577b487bb7e493c7e8907ee57948da7951b31 is not prime number \n",
      "0xafe0b1f723aa67d91aadb51130c8357f55a3d33d02ade4917199a14f41b49695 is not prime number \n",
      "0xe6e03818dc28c3f49a518766ac0ff294decf06a513de5a449880574630d676d1 is not prime number \n",
      "0xfa4d1aeec460a74978b4f95cd3634709ad77161ed34991c868abfe13193c2f73 is not prime number \n",
      "0xc93cf8e9c1a90288b0b158a4bbc0760f5291a587161aa35ffb3fa378f8e0bd75 is not prime number \n",
      "0x88340f5b124c30da70a3c5e48add007436acfe5562f08e83ef1994a22112c4b7 is not prime number \n",
      "0xd142c1d348e04ac52de057cfd74c7012bef0377c5dad0ad9fea09361807c54eb is not prime number \n",
      "0xb5dcef3bc562ab26ed0ec3d4210e33db00e5e7db468c627877a538bc35867605 is not prime number \n",
      "0x8bdba03f20c5e8f47399fbecb67bbd160ddad22db2734d5712ab9f62d46244bd is not prime number \n",
      "0xce65d0d8d713e8cdaeee4d8ba3f7e1b57906e1dff35ec772d7f671d3454fbc23 is not prime number \n",
      "0xd4688d850a32d1974e951a415554d9e3d327e1d7e1a1a17cb861ef46c6a3662f is not prime number \n",
      "0xc44dcf5d75527aba2fa591526d61e0ff567da211ef712188c0c05cee868e98b9 is not prime number \n",
      "0xe553a77d88674a73e4da3835ac0444f19e3d2ef48ff9e3a0bacdd4af521b7dc7 is not prime number \n",
      "0xc51c5e1cd9458817df3e6fcfb8c125306f3db978cf00ced68e830c4ec204749f is not prime number \n",
      "0xf2188f169ecde29bb8991067aa62e0094af0354add707a720b1fa532fb0e58bd is not prime number \n",
      "0xb7036fc0de1a7e21a1d1014c82095e798c01e42c1add59cfb88b221db920b9cd is not prime number \n",
      "0xe35e89fa61788244f54eb717f567ab7b9a8bc693b30d1c0e304b888bf08df0c1 is not prime number \n",
      "0xd25e0864cab2c82fd4a27c0901637af7f5bd32eb2b0cf49326122658bcfeee15 is not prime number \n",
      "0xbc17898da3713161571b76f0e3f38dfdd2b80c864701f4a1b557649edbce109d is not prime number \n",
      "0xea272e638ac0fd50032ce72e3bfe64da80839a74d5655fed355421d8c38b519f is not prime number \n",
      "0xfc7b4bacf729585254f27fbf47dd54ec1030faa26c50d06eba7f7ce7d2c2a849 is not prime number \n",
      "0xfa3349446c251d53109ca06300634c13aca05d8e3d277fc051a1ec65c547cf87 is not prime number \n",
      "0xacc238440e6402272610099354ffa5e652a03127396cb750ad24c6e17b2737ab is not prime number \n",
      "0xb5c7ee79906da0b8a092005b724cec9079234232897ac08b302e4323c58a57e9 is not prime number \n",
      "0xfa603ce8a3445f770c4eb551f0f3cbe4936b21dccd8dbe3627b71f1d56844a85 is not prime number \n",
      "0xf31ca841b0e6ab05446b37d3bc90abb686c3ad6354d25303a41b0b3d881650f3 is not prime number \n",
      "0xa83dac2ee39cd4da3bf20a25f317060b69ae9e2ac0de065078b6c7801317dd7f is not prime number \n",
      "0xa0cb141e34848a3f2c1d2795aac280a0d5560f15cc9c21d81ccdf3b44a6974fb is not prime number \n",
      "0xe645b8f987e6c4c82a004003643d4f12a8f932af9964eab16840db36b862d5ed is not prime number \n",
      "0xd7635ac4b92e00052e872f84c927767a21c8b8274492d118578106f59e47a5fb is not prime number \n",
      "0xd40381b1a7374aea5e611f9ff0bb5436f078c5777bbaf72ee090512c9f333049 is not prime number \n",
      "0x99727c2e39dbfb5faae3e235109dca23e0935dd920863f6f07f191f6cf360421 is not prime number \n",
      "0xdde7821ddd7bbe254acd8ae7fa5764fa5bc2742f0e5f2b30725c16f9d5ee1d23 is not prime number \n",
      "0x901fb46328ed4e24a91ae01f34acc4608d0216acf13dc3d90a4282702553f71f is not prime number \n",
      "0xe918ff95a33612be358681c499ef57ebe4c5fe12d5672446c97453ef557509b9 is not prime number \n",
      "0xe74e3f92697cf306fff09ae6830c7c94f6ba983947972ea2fcf33aef3bd79857 is not prime number \n",
      "0x8f16372fe4c2db4c868ae03c5744367b61468e54867da55c22c26715bd9649e9 is not prime number \n",
      "0x8cdcbeef4b41cfe0d335f401a2ec228a17f9c8f251b3e3b620584a8bf9d9d5b1 is not prime number \n",
      "0x9c18f4a6a91402ed1e8ef77cc0be09052717766d9665e81a0dbcc34e4fa4acad is not prime number \n",
      "0xc40101cee7dde12e0eef1ab78d2f6bb714619048e1d77698cf4c8327f94e1bc5 is not prime number \n",
      "0x896e129981db7da1a374ea28bac9bc9bd713801987b8388d9c61361882946f79 is not prime number \n",
      "0xaf944584f2775ff0a0915c8742ea4970f1267d486f6a48756b97ec2507cf0473 is not prime number \n",
      "0xacae66b8ef1ffd1a88c11139ecc966b65568ce20a2819435ced60a66bf7b3a71 is not prime number \n",
      "0x8965f4e009eb3ab8e02125b2caefb83ccdca41549644a86672ad5aa1289725a5 is not prime number \n",
      "0xb416957fd043a10922082aec52be9fb275a3ea044703e9a92d8dea19c5833e0b is not prime number \n",
      "0x92d06f5b15780b077d9e5a64cc51b4f5cbf2744dc922d02ab1725e1a93f27f49 is not prime number \n",
      "0xcf73b0b70056353ec5bfe9e7fadfe011c6d77afc1e3cb62d90aeeb8e64ce8f87 is not prime number \n",
      "0xfc1cad9daa9cc0fbdf6ad964aa4033718974ed9c99e937857c600c421f21d4cf is not prime number \n",
      "0xd61b5028bc856f64393d8a5a6c33e6706f7e8fd71aabc602f30a9fa6690c3579 is not prime number \n",
      "0x9bf2c13b0a5300636b01bb01bdf9dc35a37ca490f9397516f4e0533affb8b60b is not prime number \n",
      "0xfccb7e5644429ef4030f1c876f37c81d23e75f636e230915e88db208f9d0af93 is not prime number \n",
      "0xbd0de5809c2e2b01844f2f625e553f48164465e99e8f84be6d1b0c872bc36a9f is not prime number \n",
      "0xe2738b25591499d7528462a7eb668a69da2495bfda52851344415c476ede3d33 is not prime number \n",
      "0x8f827a62a388646ae2eb74a4983018b13e9b54d5902d9f55444514b9ddae151b is not prime number \n",
      "0xc608325c0a8443c4c08c11bd71a70862d5861bd0a24c0f20dffe143012f5a76b is not prime number \n",
      "0xa610a008bd0ce19e52dceb24260b2836f996a25c4e5d4cfd067f87fee124f181 is not prime number \n",
      "0x86d53aa93ef3bb4da6d40bb5a11e6f5db6a2d02bb05bf41c66ebaba6da8b0cf7 is not prime number \n",
      "0xe1da7160cd224be0faa13106ceea33955926dd020dd658abc9ce93bb9733cd2f is not prime number \n",
      "0xba5e02558eb4dde5613b2821850fbce8e677673bcb97ce716409e9c38f8413dd is not prime number \n",
      "0xb8109e41a7b4aefe3853c651ef9770683ce11172d002a3e798895192f792b2c1 is not prime number \n",
      "0xb7991380ec2bc03c315450eb1ff87adbd11699e155bb9bdb74d5b712120fe0ad is not prime number \n",
      "0xdaedb56b9ecb6678ae7c98ca30419cdf20831c79cbb9554ca893cd302b8344ed is not prime number \n",
      "0xb98891fb48ee230e4c5883754f251d9e393f4f85306d6ddb910a69c3c79f5373 is not prime number \n",
      "0x98a37299ec7066884b135a1f5d88d1ddc19a6456aaa62cf0636ba525d37eec67 is not prime number \n",
      "0xaf16f33a08de905c383a39e46331adb16fdc519b65f5b37a4e45f7f9e224eddb is not prime number \n",
      "0x8a2b4c618638073ab8d5fdb9994a551d2584567421eaa10d1312572d743c21db is not prime number \n",
      "0x992ef3593c2ee12490a2596c31b471e387c2e6063af94beaf74c1eff1af97c49 is not prime number \n",
      "0xce6a165321545fc561381b66767ddc79c1189c3cff79518001c479672ee3e987 is not prime number \n",
      "0xaa8fd3eb3748613d3dc09d93ac46a3bb6c3b60ece3eae127842100cccc285937 is not prime number \n",
      "0xc1887a3f38ed381102369a981c80577d9b7b2d22dbe39a7358fef3bbbaab8805 is not prime number \n",
      "0xf248a0b9ee0b7d37f187b471b89e36b6dc00f597176dd0fbf61b835485c87b0f is not prime number \n",
      "0xaf410527d63b25e8d3e27da445078dae1c98318d1aca0a83b4834519a0862815 is not prime number \n",
      "0x8706bfd7ca561e3b5aa264ac7509771f603dbae649941a2417bd67377fd24e8d is not prime number \n",
      "0xde0e0cc65cf977b688f99ff8adb45afe24cfe3bd6ce68695878156ee9b9428fb is not prime number \n",
      "0xccb5fbdbc5bfb2635d285abc1bd3e0c6e96d09dfdd916a348f4848100bed58e1 is not prime number \n",
      "0xdb0f0700af5472924540f0cdd41ccfad6cb97c629d9d9a56bfe8b497d57fc6a5 is not prime number \n",
      "0x8f5df5fcbd913b513c089fca480bdb5a3d732974cef9a1041ca57a508fe256a7 is not prime number \n",
      "0xa22c4f875a1067d1a639a619c34f8731ada50479f4e5c204f6f4bd0e473d5183 is not prime number \n",
      "0xdc85cd00790e7b5ddcc7f062167f5abfae47da47aa0a6ac39d8ba5c1ceb89fc7 is not prime number \n",
      "0xe07eee027fee9f657a28f8914f226b68947e90dcacff30e91912f4e9d2fa1729 is not prime number \n",
      "0xc06da71dd84a61440fe761f19e8e340adfb0fa52bb6989dc759d446a503d563b is not prime number \n",
      "0x89b6045cc36a9e25205a1325f90bd7a83338e0b4972ddaa8b5da1c1db6f66f3d is not prime number \n",
      "0xd670f9469ac4a729de0c418a0edda84e896ba69a1685779ce0313f64b4bdcae5 is not prime number \n",
      "0xd69871751bb2bfcfb83f2d3bc53d337aa72ddf74ed207613553ec2b009704e9d is not prime number \n",
      "0xa4cf1a0ac0162742a9772d4046db111a680da071ae6c8bf0f0a8cbaa8812ddb9 is not prime number \n",
      "0xad70359673554816710c8d3ae5f049a1c9ca503e8f19f8fadbd0ff4a6ee3edcb is not prime number \n",
      "0x81b651274365864b4823662b2a41e1531fb2aeb0d56e1dbdb37c5e233fe20d23 is not prime number \n",
      "0xb52879ec753b12bbcbb14d30366a05cbb65896badba2d3a5d44c2e0fa6257c75 is not prime number \n",
      "0xb64d9ab018c0dd6efeaf09bd2beccf2f6343b65fc9bdb66535886382e20d9fdf is not prime number \n",
      "0x8c77c25b8a05021004c65f5135a9bfb97f370ae721132c9c202ff2e351870553 is not prime number \n",
      "0xd41f41124722c9b03cc5c0bdcf7744308d30c2cad1bd4f204388d465947c15ab is not prime number \n",
      "0xa881fb7128bc2f4db6f634765a281f6e44b7cc63a70d8d32f4e1fd8f7f1f3cfb is not prime number \n",
      "0xd632a0757b66e31013017bafe05193fcbeaba1ab6ba7f8f6909f84a0993ef33d is not prime number \n",
      "0xbcf2b7bb42bfd77e549dfbce38130f194d49780ba3c3e2c290eb75c1340ed247 is not prime number \n",
      "0x91f534ddf82fc09523a9f4be0ec99fbb9a4d9b0ae6e09813a70d080d33bf5d8f is not prime number \n",
      "0x8b0ca1ef80753c9ebe50b1ab51277959a8ae93fb9eac2de8304e43d1bb33608b is not prime number \n"
     ]
    },
    {
     "name": "stdout",
     "output_type": "stream",
     "text": [
      "0xb585a273489b33e7c23e65d41f1ce5efbe7c6f81791398c25cf5ed898a406fb3 is not prime number \n",
      "0xe27ad6822c007410f5ac4124e8a6ffc5f59f0f8a5a05d4c8cf53bf1348cb233b is not prime number \n",
      "0xce88afb4e7ab2950576f62dd026f57b97e30b8032e4b7880aad0a9872f621fcb is not prime number \n",
      "0xf1f6d8b0eed53c23c6ce97ea6a67d1cb10d96e6352b4e62e77a582d6ed072391 is not prime number \n",
      "0xc318e787668c814ab4777e8df322a751edb44e76541a405f83f5757026a9e207 is not prime number \n",
      "0x834476367c04093f47927bc5344b9b61855ef74d855e9f6384ce21be7e2f7749 is not prime number \n",
      "0x80bc8f0c878a0a2329af31ac06ff908724835450a277e99f119f4870a4c82979 is not prime number \n",
      "0x9c7bea6dff82a9ec775334b36ee649fa35d1ab984f958f5ed1b2951ee335c2cb is not prime number \n",
      "0x80b78d27889311cfe89e8a71011e0febe25a5037c7b65ff7979e08abd9ed6745 is not prime number \n",
      "0xe86722eafc9243fe583318c594d40bd8d2ffbd2d440ac5c8ca7c248592e13b79 is not prime number \n",
      "0xeb6364920ddd15f30d1f50eb79b11e97ef7dd7ad24062b43211b12abed091471 is not prime number \n",
      "0xc4dff3ed41967eb0fc94cd18fb4ba86d7007b6aa7fd587e8346f4863ad9b3305 is not prime number \n",
      "0xbd2eaed48f47875c99086599bc981e1c6e760df6d8432e57fb9b90b5505f5a71 is not prime number \n",
      "0x844ba0a769426bee508d6f84e4f1ec7e372e689a54562285ab12046003e22bed is not prime number \n",
      "0xedef3b3892eebca87a1776918f54cb3cb79618ca8b9244437e50cb685d7a0e53 is not prime number \n",
      "0xdc32516750bd5b39ab477673b1c693bf4e55174789ce62ae89a54a21d1b21a23 is not prime number \n",
      "0x8d0df358e9cf31048ff83c808675543878583055bdee4dbd04c880dbdded3c8d is not prime number \n",
      "0x90e47a69c243864e0acadb6d03b97d75debbbd0e0de8ca9afe25c18c7bacb9ad is not prime number \n",
      "0x8720f7869ac6a67fc28e23ae8709af4a1e9ea1103804b9636aa2f706cf574d65 is not prime number \n",
      "0xb813bdb88a376aa59aa118fb105deee17604ce8566fc68fd4f2672cca50fb11b is not prime number \n",
      "0xb4485e323c96c104a3b1e2d589ee29223a944891b319bc0baaba32abe2b274d3 is not prime number \n",
      "0xcdb71e0565a4fee5b78c2ee2a266e65a8295f60e940096a6dec603074f6f1b79 is not prime number \n",
      "0x8940e6dda12efac821bf9ed50d2d9e471427f64d19390e50d2978d8db0e32cc3 is not prime number \n",
      "0x81d0ef548ee7c7864462eeb89fa9e0b1c1f15e0bb56d8c98b229253f0e96965b is not prime number \n",
      "0xc7221f578dbd60b5050afddfe1c10b0738dc700c1478e3cf67910f206ce7e3f1 is not prime number \n",
      "0xf34e6c04fac47efe9a849da0352cc0bbba78a0e267d36f24ab664ecacba56221 is not prime number \n",
      "0x974b4ef7c4037de51027cc9564caafdcc1341a686d47cc499c38867ac15d39af is not prime number \n",
      "0xe152be900d1ad890c8f80fee67ef7783da96bbdcc2d0aca50c91fa1b1ca1be8d is not prime number \n",
      "0xd2f99181d5c934eef768f045c7faf9cce4b34489cecf3c5cd4cfe7c5c96697e3 is not prime number \n",
      "0x97c9180b3907865164b23baeaeded952bb10b361dcaa084ada03ccc33110c7c5 is not prime number \n",
      "0x9f92b5b0234ad3729962bd2e616567c3811461cd1f67690bc3043d2afed801b5 is not prime number \n",
      "0xba9acbb913d116cb0f2e92b5a5ffe7e9491f24edb59d404b4e73b17326aaa4e3 is not prime number \n",
      "0x8e3095bd3a19909e60d3f3ef236e8631592392f2a25549c5f529f7290fe674cf is not prime number \n",
      "0xbe5d0797a62135b29df7bae255415511773c402665922aff1db92968ffde07c7 is not prime number \n",
      "0x831d0c8d45aff4a69da97eb8b359c691c79e4ebbf82c67c38ddc3eb7add63d8d is not prime number \n",
      "0xa716f4424d207ad23c952284d798dcd7a0fd401f84da008c55e7fa995813554d is not prime number \n",
      "0x9c172db93bb4dfeee56dd1a5b73ce660130473c6689c93ed608a717d253de02b is not prime number \n",
      "0xccdb30d10bf05459db0c47fcd922b5e7fc94ed793db58032d2c848f5c8565e2d is not prime number \n",
      "0xd0c5e00f6d574f2e297ba2124a1c63c273bd7e205c81d4467b761d9190aebfd5 is not prime number \n",
      "0xaf36f7f18b1a8d125b9cdc2e55e33d01b83de709cd681dfb63ea63bbae4b3245 is not prime number \n",
      "0xb920b6378d33dcefdaad6d3788e2f5fba5a9c637e7c7360bcfecdb772979b8c3 is not prime number \n",
      "0xc65cd710ec3ba349140902cbd423725772793d3d56acdcf6715e05f8f01da7fb is not prime number \n",
      "0x9eaaf2218bb7af51a1d1ba13a65b810ac642ec46ec029d63cb25a53d6c2f6e4b is not prime number \n",
      "0xa56839270c46385968be23878931208908b20b79eaa4924fc8a04b40b3ca3759 is not prime number \n",
      "0xf5ab8cf78222a1c9250c7e2f08aa3c5667f20de411ad9802fda1c90501e6b8e3 is not prime number \n",
      "0xbde78d22374b24b6ce7f55b2e7c0e02d7c230e773ee16a04eac61a19b9024d1f is not prime number \n",
      "0xab39cc34897c26544da35fc899d084e62847e767fa6ac1fc9517810953fe6085 is not prime number \n",
      "0xc02ae0a9c77fa0986bf77e85cc1f8f8f593655fc06fb2922ebbb7609228b1147 is not prime number \n",
      "0xc9f6519a42f3d6f4abed26f89640e85b8ae3ced2d06352ea19170cce0474f40f is not prime number \n",
      "0xa6b929bbd6b7291bc0a7b59f49807567dfb72971b6aa358d9e49e5dc9e58cae5 is not prime number \n",
      "0xbe4030195174ba774f562b5fdf0445ebd4a36a0e1ba393c708807e0c3571b5bf is not prime number \n",
      "0xc270a530c47f43229fe5d80b236440b7bb9fa60e08ef6955a29e2e5a1ffdef4f is not prime number \n",
      "0xb59a115f699b77cd1571a5b35d7ab7f3ca6b5c35122620129eaeaaa36e3ac8fb is not prime number \n",
      "0xe92be80377bff0826f3d1a2bbf5bda9e3b04b1f3dc1b424755585953149ecdbd is not prime number \n",
      "0xaf1e7ccd315abeba111b25580907afd7b09924e61794b080bf64c6cb95845fc7 is not prime number \n",
      "0x88fd5c511326477344fc511de5c4f35608292a944f20feba12e2ddc97692e8f5 is not prime number \n",
      "0xf06cbdc7df3cc0ae310ee3ed1802c588818cec0092e38b3ca67ae5c4f73a5ae1 is not prime number \n",
      "0x8aaefcb82e1a8ed7f28d42335093671dd2773e19d9bc0c6ac10a81847a04e415 is not prime number \n",
      "0xc8837e3bb3a39f87c5b9a74224c6529bfd406dc450ab26ba64a9ed2e3536182b is not prime number \n",
      "0xfc551bdd8bb2de410e57714e2dd6d4ca9d782838a463932a3c61e202428cdbc1 is not prime number \n",
      "0xf50662d0f837a11be9eca92bd060c31f74ec0833e0f86420096b6fa61b594171 is not prime number \n",
      "0xac0021f31e3c17614b4c90dc288d5656ceee8177f9bc5fd15d68cc20df0432b9 is not prime number \n",
      "0x9ac0a859eccc8cfd4ac71cc27af7e97e5674dded1da8d871f6b271ad353a56f5 is not prime number \n",
      "0xf6ed6cebbd2460df5bebb511cc7f4f4f20e8f2322c94e466d8a50311b75ffacf is not prime number \n",
      "0xc0e6b0a02aa73abbbed9e0f7b8915f93204aa43839d98c9a6b7776ee7ffe35e1 is not prime number \n",
      "0xaecb7d3bbb819d0c08ec1eb6ae4d3d9936208726f80b624436b98507849eb007 is not prime number \n",
      "0xa5e982e517c4a69a3659335a45f2929773d4178c4603dc713436b42d4e7ee955 is not prime number \n",
      "0xbd5070d7ba48063821aaa7578c27af583c2acfeb091458868e52232bd696c15d is not prime number \n",
      "Pair p and q for Bob: 0xe80fc3cb860c8a6885f28962d8c17a75b173a8f67f272147d73a03f500b0499f 0xbf0dfcf9027e5e01770564903205197d6781348efeed76b6c03d2a996fe80255\n"
     ]
    }
   ],
   "source": [
    "pairs.append([Generating_Random_Number(), Generating_Random_Number()])\n",
    "\n",
    "while pairs[0][0]*pairs[0][1]>=pairs[1][0]*pairs[1][1]:         \n",
    "    del pairs[1]\n",
    "    pairs.append([Generating_Random_Number(), Generating_Random_Number()])\n",
    "        \n",
    "print('Pair p and q for Bob:', hex(pairs[1][0]),hex(pairs[1][1]))"
   ]
  },
  {
   "cell_type": "code",
   "execution_count": 19,
   "metadata": {
    "ExecuteTime": {
     "end_time": "2020-12-07T18:13:09.652233Z",
     "start_time": "2020-12-07T18:13:09.643219Z"
    }
   },
   "outputs": [],
   "source": [
    "def GenerateKeyPair(pairPQ):\n",
    "    n=int(pairPQ[0])*int(pairPQ[1])\n",
    "    dobutok=(pairPQ[0]-1)*(pairPQ[1]-1)\n",
    "    e=0\n",
    "    while gcd(e,dobutok)!=1:\n",
    "        e=random.randint(2,dobutok) \n",
    "    d=find_inv(e,dobutok)\n",
    "    \n",
    "    open_key=[e,n]\n",
    "    secret_key=[d,pairPQ,n]\n",
    "    \n",
    "    return(open_key,secret_key)\n",
    "\n"
   ]
  },
  {
   "cell_type": "markdown",
   "metadata": {},
   "source": [
    "# sets of keys for Alice and Bob:"
   ]
  },
  {
   "cell_type": "code",
   "execution_count": 20,
   "metadata": {
    "ExecuteTime": {
     "end_time": "2020-12-07T18:13:10.946421Z",
     "start_time": "2020-12-07T18:13:10.930433Z"
    }
   },
   "outputs": [],
   "source": [
    "Alice_keys = GenerateKeyPair(pairs[0])\n",
    "Bob_keys = GenerateKeyPair(pairs[1])\n",
    "while Bob_keys[0][1]<Alice_keys[0][1]:\n",
    "    Alice_keys=GenerateKeyPair(pairs[0])"
   ]
  },
  {
   "cell_type": "code",
   "execution_count": 21,
   "metadata": {
    "ExecuteTime": {
     "end_time": "2020-12-07T18:13:11.416322Z",
     "start_time": "2020-12-07T18:13:11.400331Z"
    }
   },
   "outputs": [
    {
     "name": "stdout",
     "output_type": "stream",
     "text": [
      "open key for Alice:\n",
      " 0x298c879a1c89800f8b7501328eb27d90fecd0a8d8aae0d2c34e96de68677b439945086e1d30801a14959309b7a554d7829483e95428f0d9723e88b69d5842d71 0x79be698df27ebae0ec42c859a237f4809c41b9284d93bf6ed99512f866902bf9b7c500d48d799bfc4b1be7ecad0f7c72a5489fa196a99cd78d618878133406f1 \n",
      "\n",
      "secret key for Alice:\n",
      " 0x12c2a56e5a0336d7b06641e7c2df91d0171da77ea1f3586b82fea15eb643931cdba8f3afebd9d8eafb59dc34d5f81e7738844329b094d870b1caceeaf1997531 0xbc4305809649bcf1089534180c0e018e4bf061ad4848e617c23b1ded03506d35 0xa58c5a3b25fa017021cce0d1b5ac3e4ed14724d6632359653489b5f5da52364d \n",
      "\n",
      "open key for Bob:\n",
      " 0x4ef0ba9528f19d11ee413e8aeab48e1e333fee5f2c38d7518ac00aee50cd0643b7e3297d28774705975e05fe9903cf2490e67d90e87455e330b74fb044665ee5 0xad30713308ad9f51d0c10f172039d1d3ab125a13e9f5dade3e311d92b3eb4f9d197e56603c96b9ed5f6a3222f60cea0dd10f1fb6575c62a0dbf360104433afcb \n",
      "\n",
      "secret key for Bob:\n",
      " 0x881f84af2a4564f964a451f0e161848a9cc620cde56033194d79c27c67080b6150ba8772ccd1085c411f04df041c4c4121dd01ffd21015b3f1635155710ae3e5 0xe80fc3cb860c8a6885f28962d8c17a75b173a8f67f272147d73a03f500b0499f 0xbf0dfcf9027e5e01770564903205197d6781348efeed76b6c03d2a996fe80255 \n",
      "\n"
     ]
    }
   ],
   "source": [
    "print('open key for Alice:\\n', hex(Alice_keys[0][0]), hex(Alice_keys[0][1]),'\\n')\n",
    "\n",
    "print('secret key for Alice:\\n', hex(Alice_keys[1][0]), hex(Alice_keys[1][1][0]), hex(Alice_keys[1][1][1]),'\\n')\n",
    "\n",
    "print('open key for Bob:\\n', hex(Bob_keys[0][0]), hex(Bob_keys[0][1]),'\\n')\n",
    "\n",
    "print('secret key for Bob:\\n', hex(Bob_keys[1][0]), hex(Bob_keys[1][1][0]), hex(Bob_keys[1][1][1]),'\\n')\n"
   ]
  },
  {
   "cell_type": "code",
   "execution_count": 22,
   "metadata": {
    "ExecuteTime": {
     "end_time": "2020-12-07T18:13:12.073428Z",
     "start_time": "2020-12-07T18:13:12.068429Z"
    }
   },
   "outputs": [],
   "source": [
    "Encrypt = lambda message, open_key: pow(message,open_key[0],open_key[1])\n",
    "\n",
    "Decrypt = lambda C, secret_key: pow(C,secret_key[0],secret_key[2])\n",
    "\n",
    "Sign = lambda M, key, N: pow(M,key,N)"
   ]
  },
  {
   "cell_type": "markdown",
   "metadata": {
    "ExecuteTime": {
     "end_time": "2020-12-06T21:27:38.982416Z",
     "start_time": "2020-12-06T21:27:38.973401Z"
    }
   },
   "source": [
    "# alice is creating a secret message:"
   ]
  },
  {
   "cell_type": "code",
   "execution_count": 23,
   "metadata": {
    "ExecuteTime": {
     "end_time": "2020-12-07T18:13:13.061197Z",
     "start_time": "2020-12-07T18:13:13.054203Z"
    }
   },
   "outputs": [],
   "source": [
    "secret_message=random.randint(0,Alice_keys[0][1])"
   ]
  },
  {
   "cell_type": "code",
   "execution_count": 24,
   "metadata": {
    "ExecuteTime": {
     "end_time": "2020-12-07T18:13:13.512323Z",
     "start_time": "2020-12-07T18:13:13.508323Z"
    }
   },
   "outputs": [
    {
     "name": "stdout",
     "output_type": "stream",
     "text": [
      "0xabfc3834e92a7abf1f1b21c9f38ded97b4bd192ff765116f45a8aa625f68f018bb8c961a28eabe65752c11d9ac6f77e347dab7306e7f3c53e19e86a7477c569\n"
     ]
    }
   ],
   "source": [
    "print(hex(secret_message))"
   ]
  },
  {
   "cell_type": "code",
   "execution_count": 16,
   "metadata": {
    "ExecuteTime": {
     "end_time": "2020-12-07T18:13:14.015130Z",
     "start_time": "2020-12-07T18:13:14.008134Z"
    }
   },
   "outputs": [],
   "source": [
    "def Verify(S,M,open_key):\n",
    "    print(open_key)\n",
    "    if M==pow(S,open_key[0],open_key[1]):\n",
    "        return True\n",
    "    else: return False\n",
    "\n"
   ]
  },
  {
   "cell_type": "code",
   "execution_count": 25,
   "metadata": {
    "ExecuteTime": {
     "end_time": "2020-12-07T18:13:14.616413Z",
     "start_time": "2020-12-07T18:13:14.609417Z"
    }
   },
   "outputs": [],
   "source": [
    "def SendKey(Alice_keys, Bob_open_key, M):\n",
    "\n",
    "    k1=Encrypt(M,Bob_open_key)\n",
    "    print('K1 =', hex(k1),'\\n')\n",
    "    \n",
    "    S=Sign(M,Alice_keys[1][0],Alice_keys[1][2])\n",
    "    print('S =', hex(S),'\\n')\n",
    "    \n",
    "    S1=Encrypt(S,Bob_open_key)\n",
    "    print('S1 =', hex(S1),'\\n')\n",
    "    \n",
    "    #print('e =', hex(Alice_keys[0][0]),'\\n')\n",
    "    #print('n =', hex(Alice_keys[0][1]),'\\n')\n",
    "    #print('d =', hex(Alice_keys[1][0]),'\\n')\n",
    "\n",
    "    \n",
    "    Alice_message=[k1,S1]\n",
    "    return Alice_message\n",
    "\n"
   ]
  },
  {
   "cell_type": "markdown",
   "metadata": {},
   "source": [
    "# Alice's encrypted message to Bob:"
   ]
  },
  {
   "cell_type": "code",
   "execution_count": 26,
   "metadata": {
    "ExecuteTime": {
     "end_time": "2020-12-07T18:13:16.189991Z",
     "start_time": "2020-12-07T18:13:16.179996Z"
    }
   },
   "outputs": [
    {
     "name": "stdout",
     "output_type": "stream",
     "text": [
      "K1 = 0x63e1da0366e5b999edd564ca0a520a64300574bc8aa1a66a0013ceb0e53cd2849478d9777e4e1ea368cdf4bef3d88c9eb45e1d256b3a9ec9283ebef5491efd74 \n",
      "\n",
      "S = 0x49b65bd0180ba94c8802c5550d8523157f142a33a3eeffea535ca321d747fb565ac0d77441b5a4b9cdc6883a3a31c74c753062b31e3a4c31d17dd0552a14c222 \n",
      "\n",
      "S1 = 0x8064176cc66762565fd484cfbabf468482486a769519cd2e8c28c900ca2bfc868038b2c280365de4764e9e9787c3c9eb63d75b5383843fddda066a1352024dff \n",
      "\n"
     ]
    }
   ],
   "source": [
    "Alice_message=SendKey(Alice_keys,Bob_keys[0],secret_message)"
   ]
  },
  {
   "cell_type": "code",
   "execution_count": 19,
   "metadata": {
    "ExecuteTime": {
     "end_time": "2020-12-07T18:13:16.820004Z",
     "start_time": "2020-12-07T18:13:16.817002Z"
    }
   },
   "outputs": [],
   "source": [
    "#print(hex(Alice_message[0]))"
   ]
  },
  {
   "cell_type": "code",
   "execution_count": 20,
   "metadata": {
    "ExecuteTime": {
     "end_time": "2020-12-07T18:13:17.353379Z",
     "start_time": "2020-12-07T18:13:17.344380Z"
    }
   },
   "outputs": [],
   "source": [
    "def ReceiveKey(Alice_message,Bob_secret_key,Alice_open_key):\n",
    "    \n",
    "    k=Decrypt(Alice_message[0], Bob_secret_key)\n",
    "    print('k =', hex(k),'\\n')\n",
    "    \n",
    "    S=Decrypt(Alice_message[1],Bob_secret_key)\n",
    "    print('S =', hex(S),'\\n')\n",
    "    \n",
    "    print('authentication: S^(e)mod(n)=', hex(pow(S,Alice_open_key[0],Alice_open_key[1])),'\\n')\n",
    "    \n",
    "    \n",
    "    return Verify(S,k,Alice_open_key)\n",
    "\n"
   ]
  },
  {
   "cell_type": "markdown",
   "metadata": {},
   "source": [
    "# Bob is checking Alice's sign"
   ]
  },
  {
   "cell_type": "code",
   "execution_count": 21,
   "metadata": {
    "ExecuteTime": {
     "end_time": "2020-12-07T18:13:18.398298Z",
     "start_time": "2020-12-07T18:13:18.385307Z"
    }
   },
   "outputs": [
    {
     "name": "stdout",
     "output_type": "stream",
     "text": [
      "k = 0x4b7b18d443e25439b0192f599f33f13e72bab8460c86fcf966e2b549a527aebbe79c03cfa1cfb2519e525430109bd73127d3f51b9a6cd394c61278efa6feb842 \n",
      "\n",
      "S = 0xa4b09bb0270af652422f71ce71c04570e911dc976abdba71d674154c34a710ab7f43c6935e1970d940bc1db14f04c8a91b4d1062c3ba1049c35a03ad1a7b5c3 \n",
      "\n",
      "authentication: S^(e)mod(n)= 0x4b7b18d443e25439b0192f599f33f13e72bab8460c86fcf966e2b549a527aebbe79c03cfa1cfb2519e525430109bd73127d3f51b9a6cd394c61278efa6feb842 \n",
      "\n",
      "[1320812458181101377409031474241314171341646189677909978021252694538610410552511634441270118946538220616785034583077918998692762170954858828475638669835527, 8312343778407683409111458891016854110785121498204383143808380473594312653681898441457351890634356703225048912437724645618084751255379236351756613370973917]\n"
     ]
    }
   ],
   "source": [
    "result = ReceiveKey(Alice_message, Bob_keys[1], Alice_keys[0])"
   ]
  },
  {
   "cell_type": "code",
   "execution_count": 22,
   "metadata": {
    "ExecuteTime": {
     "end_time": "2020-12-07T18:13:19.130431Z",
     "start_time": "2020-12-07T18:13:19.124436Z"
    }
   },
   "outputs": [
    {
     "name": "stdout",
     "output_type": "stream",
     "text": [
      "RSA completed successfully\n"
     ]
    }
   ],
   "source": [
    "if result==True:\n",
    "    print('RSA completed successfully')\n",
    "else: \n",
    "    print('RSA failed')"
   ]
  },
  {
   "cell_type": "code",
   "execution_count": null,
   "metadata": {},
   "outputs": [],
   "source": []
  },
  {
   "cell_type": "code",
   "execution_count": null,
   "metadata": {},
   "outputs": [],
   "source": []
  },
  {
   "cell_type": "code",
   "execution_count": 23,
   "metadata": {
    "ExecuteTime": {
     "end_time": "2020-12-07T18:13:21.177287Z",
     "start_time": "2020-12-07T18:13:21.172309Z"
    }
   },
   "outputs": [],
   "source": [
    "pairs1=[]"
   ]
  },
  {
   "cell_type": "code",
   "execution_count": 24,
   "metadata": {
    "ExecuteTime": {
     "end_time": "2020-12-07T18:13:22.942954Z",
     "start_time": "2020-12-07T18:13:21.979217Z"
    }
   },
   "outputs": [
    {
     "name": "stdout",
     "output_type": "stream",
     "text": [
      "0xfd85f6d32824ccaf4d0b2f1f437b3d7ad0e38c1cdfc645ffb381171ddc2d9373 is not prime number \n",
      "0xae457084eaa46d5ec23b9b8fea1f82f4665362607f658a1c8b24e10edab64f5d is not prime number \n",
      "0x9acdab22216c0c28ec8bf5a196cf0a1c76a60946aa856b1565c12b159ff632dd is not prime number \n",
      "0x82d7b90179452df623527f229b40e0774e40085b0896258e6c1d301c71151fb3 is not prime number \n",
      "0xe9a355e16ab9b2d8f774f4de0481aace948cd6095a80397efb4d630a86865fcf is not prime number \n",
      "0xd196e57b0f47dac4441cf2c8f9ed41877fa897a8edf19350ef89f36dd50c3b0b is not prime number \n",
      "0x910c2d1d1a063b4893d9ef7ccf96c29b28a8f7c846cfd1dfbb7ffdb5bf42a0eb is not prime number \n",
      "0xe99bbd32ae95108547dfd6ea851dfa9cab82bb648166fa14f630a8f1d22092c3 is not prime number \n",
      "0xbc2a6e05a704690a70fed79d20e3fe8d04ec4eff767edb671409dd61fd63f521 is not prime number \n",
      "0x8f0ed11241b09be87eb5b40d2b1f9df3f38450ef7e5cc8322e28ef14c98ed1c7 is not prime number \n",
      "0xee6ff99132792a6ea303766d2349229f37917b8611265017e638442068e4f623 is not prime number \n",
      "0xd1cd1a0b97a22f803a7301ec15722fd37d798d5828c2992effc4f1fb077cfdb1 is not prime number \n",
      "0x8d59611a42211a29f8f0cc55a8601bd20418c2f86aeb7c0d13986244d949ef6b is not prime number \n",
      "0x96d816106fe55ced7ed89e9b4d511be8686fb1e2e3aa7021ca02f474f8b757ab is not prime number \n",
      "0xfabc7b8e7e367d79166bf9aac73352ca91ac21d3df80400152ec35ede36f0959 is not prime number \n",
      "0xda49937f99be308820a0dc8c2ff3a708ccf87f9cc643cccd45368038f87b3dc5 is not prime number \n",
      "0xde631ccaccbb6a44d7c6ebb58d674c99e2833acfe28fe3be307ab2eee9aaaf5b is not prime number \n",
      "0xae5cbdc960f53d5a11d78c2ac815cde93747c7154b5d699492d11baff4f16f0d is not prime number \n",
      "0xc73a4c1009e7e8fc3869b48d793d4a60a203f0a1ca8d44144f04bd4841b9a3cd is not prime number \n",
      "0xd9c52d95d9d0f1a85645bda45071a5d5f6f01a0714fa6130eed0f5d98a850ce7 is not prime number \n",
      "0xc169492043467bcfeb5460ec110caa4abfb17547f6d77ef05589edf5b0d81233 is not prime number \n",
      "0xcae457839144c8da5e0ff41dcec8be6af8a197b7fbacb2bd83372f76a311cf3b is not prime number \n",
      "0xc4d3039bc89026987af768b0c2a493e63c7593119635a4d8068a673efca3f07f is not prime number \n",
      "0x863a60a227088f82cffb077b6fada76874f5f63dab78b78edddec7658efbe1a5 is not prime number \n",
      "0x993eaa6274470e16299ad84cc8b5e42519f0e95add041a1ab04e378b1f50579f is not prime number \n",
      "0x8fcf79472af4becb89322e0c8b9a2d5211d0db2356076fd6e3da0372efa4a611 is not prime number \n",
      "0x9c9951c7b0eaa3b1f4bd6ff55f1bd5f946554c180ccb9cc1df44ec2835682467 is not prime number \n",
      "0x87aae2bc16e5de2a2a97a39a13d68499e2b9f0d190fcc7f35428c47e7b272243 is not prime number \n",
      "0xf569cd10db4ec7b105b6b4776d772cd8c044d4a9f3fa5c4b5b301da5abb7cb93 is not prime number \n",
      "0xc56d0fc169678a37f3409200127d0f9d1f455e9112513540c9277f7b7491bc4f is not prime number \n",
      "0xfa454ad76412ecbc97f957c9b5f5b549b2923e3c93596a9b641d0a333af193ff is not prime number \n",
      "0xbf1875db857cec15a3a1772f44716468e5893420352f95515905c94886a9da4b is not prime number \n",
      "0xed35c15dabef5e62c092f015c1056ae203bf56a40eea926908b2ed7c1cb9b811 is not prime number \n",
      "0xbb21d1b31262f02c89f8a9c5e363af36c231bd8856351394376d34b3a811e0e7 is not prime number \n",
      "0x8cb80b3ee6989e88881fefa84f2773df8b7376acc960fbf625234732f8c6d681 is not prime number \n",
      "0xaf68f193d72a238a918ea56e954440a3bf9ce381ae22b78fb9e8faf652826981 is not prime number \n",
      "0x8624ae69d1ebf3f76dced6a042f17c437dce6d8f6d801be98f868a953cbecb9b is not prime number \n",
      "0xbf609b63933a9dfa6723c2c2a49b741e6d6e123a5be8e9823bc0500c3263a353 is not prime number \n",
      "0xac5a41a960a4491ea76bec3d19c9f90f714803bffa80057e6d3f65c008f21ca5 is not prime number \n",
      "0x9a750295cef0123e5ee039ece8d32e1e436db7024dcf5f71323f7f570175ef65 is not prime number \n",
      "0xcb248935a22bba3fa2ad06aa364d31798da69489e6619014896379b2c8c63ba1 is not prime number \n",
      "0xa0be4a02ed5c3d36e93c006272b0994e507359236e3525c9e6e9648f7916d27f is not prime number \n",
      "0xd1f4d3944c6ed4233c6698b2909a6e8d1b00a38d88b565cf23e2420bc64f478d is not prime number \n",
      "0x80e55ed6d0bbdf6b42a5a9bdab4a27c45472845493e728d22b1f969c43397789 is not prime number \n",
      "0xcc74c11803f0cb2b661fcbc990ad4523c6380d7c9af1d6a5bc74b3b333865fc3 is not prime number \n",
      "0xca2980fd1f69b7f086056b99b5f27f376c72bc8656b9a987d7f0daebca526607 is not prime number \n",
      "0x8711843c4f9fae802e3ebed0d951de010cf42ba407f951c049420bf1ed82e643 is not prime number \n",
      "0xb7629ee7ff245788950766417b48cb28195c2bfe825219ec704408fcc3b9765d is not prime number \n",
      "0xb72a67cdbfacb7f21d9619edd7b58e068ba5ff52d173b068289c78f0561f41d1 is not prime number \n",
      "0xf4108a1352b5bec4a6c3f14259cffae1a4f9e3685d95f7b11b11501af42e0855 is not prime number \n",
      "0xb24e048a163460cb3243fe23152edcfa1e857ca65e32d9e57c696ea3c9bed7c7 is not prime number \n",
      "0x9acdcbb399a56b9715908f08353a1854a3f760464c94c7715c1d6cbccb411687 is not prime number \n",
      "0xdf6289ddfc8dcdd7d087993903353c15a372ea750e409dbbe19c4061626b9535 is not prime number \n",
      "0x902bffa7d878448d7ce644e3fe49fdfbc202739b3fdcc7ea6e99032e3f9f64db is not prime number \n",
      "0x91e90606cf389945e3a1751db0741ec5fde71e347d8a3f126e6b792418351953 is not prime number \n",
      "0xcbb24339f0d79073dbc03fec7769fc5fa2b396e6a6ba7486c00da48bfc487caf is not prime number \n",
      "0xdd9c1c6462de4346fe28b6e85e596db963f39a57c3171f8f944de35fbba104ab is not prime number \n",
      "0xf5b64e7734ee4d0bc5662ff0032d23e197ea9ce2703128782c7d18c6be67582f is not prime number \n",
      "0x99996d324e32a482c7d7ac16e12ad73a6522eabd2d54516043b50cf07b9dbbff is not prime number \n",
      "0xedaaee293ff9e1437eed4aa9c155bb6e3c3df76ae9aa052fa4c662ab45b26c7f is not prime number \n",
      "0xf86112393baa9b495caf2897d9c0e04db0acccf788f64de6571a192fa8acc4eb is not prime number \n",
      "0x8b9207023347c1889401af3847b5c302dc764eed0117642aa2a999ede81cb7a7 is not prime number \n",
      "0xed28d5a35689118fc1e313c430a16c8e02802f654157c289677c6eeb84bcb1a9 is not prime number \n",
      "0x87914f9ce38625e5378b5a47cf02255f2bc6ed165dc7fe22673bdafe72c78883 is not prime number \n",
      "0xac4fcf20dd7211cc4aefcb6c7df41c7cd253140d1d99b60e5fdbcc54ea6360ad is not prime number \n",
      "0x964b3db2af36c78a83b877cbe9ca189803208c932c247a28c838cd3971c1725b is not prime number \n",
      "0xe978ab11e549de88cde4b1522e9e92d3b219b70d394dbc7521757af3e6fdd35d is not prime number \n",
      "0xffe23769860813c9e92260bfe79d03b58ac177429c30a6f93f46f7c97fed9e4b is not prime number \n",
      "0xf5e561776b86c520e7f89ad50fd314673ec5ec49413fee1cb5316c4bc9f219e7 is not prime number \n",
      "0xa3fc510cdf75bdbb3d36f9b0f299ef249411cd54d33b1afc06149019c310dbb9 is not prime number \n",
      "0xcfeae6c0a9051bf0f797f633135a44936eb84e9e501848467ec0a5e2f16272c9 is not prime number \n",
      "0x8abb814505181aab13ebe1e50e8f166d36ec8106b93e30e5713f72bf0d62b425 is not prime number \n",
      "0xec058a03a5bf479df33da8f6c05f6eaf9ac76606178ef326dbc705694a69f709 is not prime number \n",
      "0xe0d8592660de8295c5ba7138cca09c856972c8be7691d3a68ad9c9a67080ff95 is not prime number \n",
      "0xa6f4f4597eeb0036314b6b812561add586e76fe88590a27dadcfd0e589ff565b is not prime number \n",
      "0xa7a8442343e6a9b70065ae3a9ec572b7b0c2df82a745808b633251f90e9cc273 is not prime number \n",
      "0x9d423b51a9ebcee24b4ba5a73361eb2f6f1b537f27c521aa129053cf93cf2381 is not prime number \n",
      "0x8a254e6171117b8d43c669a2300a56105700d7fd90f52a788db87c4389bdadb3 is not prime number \n",
      "0xae7c74034caf8950829d17c1772c803149924338f8d536d50c9670427cd3ea6f is not prime number \n",
      "0x8c8d877f03743d26d054905d781cb6c232d82fe8b949805535fd57c88887e7cf is not prime number \n",
      "0x84ec2dd6d078bc3ff572085baaa8f177cd247d72c81dc906c8a7d8e3e9e51a61 is not prime number \n",
      "0xcffc64e879ad50e6a857c94cd4da5de05e2166b8c02092f4e5557f460cd59313 is not prime number \n",
      "0xf6fde6cce0311a5339221449db9b4ac69c254977681002a59fb4ea7f22512f7f is not prime number \n",
      "0xd6c078fb603e912899d6e4bcaa820310bcb01216f43a19a49bcde68f5f57ba2b is not prime number \n",
      "0xb0f9a0411d25fc793e36f3ae17b0fe0aa0151ac11557af96a04d7be09b48b63f is not prime number \n",
      "0xadf62e02fd5c50a99627ee6c377ff71a173e0b2e2a7c482fa8e6b702dafdb3e9 is not prime number \n",
      "0xdc0059817b9c6be27279c58c055f8c96c7ee9ccaf27e736ae204fe061c60d1db is not prime number \n",
      "0x9447f00b4713f53669abdf7a332ccce014e437e22da1816f8bfab4c4b46fbd77 is not prime number \n",
      "0x964d16e3922e4ef625405507da15d75284a8ea4b1953b3a15f112a4de5a70167 is not prime number \n",
      "0xdbe398567802b1fc832256a476c3f4c8279ec870bfaaebed31cd5ba35ef309bd is not prime number \n",
      "0xa4137f4fec4b44d168216d8cfdaaf9971d35847fb26d8d92feb36009366a0663 is not prime number \n",
      "0xdb26f49c4b82f8310f494ff0bd3969aacde1b6513f39c27bfb0d46ecab83bd85 is not prime number \n",
      "0xb3a732ecbd3dfc61b86d8071fd9fd50dc4aa28a05bc315f6436f3e8bccd6cbaf is not prime number \n",
      "0x9a99393297428eb9bacbf36960ac955e97030aef244405973cacc23ea3adfb1d is not prime number \n",
      "0xedd9687642fca63c68b766d760c67e813e10849c6b609ca6d3d1186cbc01bfe1 is not prime number \n",
      "0x9041b490b5a31ccf22d8b8b619f37c171cb9e321ded370fb912919c524acd4a3 is not prime number \n",
      "0x8f31b5486fdf3e29799b85c8d64ce94c7ea8a3ff3eedfa93c8d934b30c53e8af is not prime number \n",
      "0xed75ae37c5af532bc63b0789a2eb6efb59b7153686bad38f8995a935731b1a37 is not prime number \n",
      "0xbbef504f6b3f985a015994a3da0088f3edaf5a0e25cc75586b8eec82d40b904d is not prime number \n",
      "0xb54c3ef05b01c904c5f69fddee1d11602deef7a246cc6662d0fc5d3669a0ed39 is not prime number \n",
      "0xab459703880ff037d5a81e544146264d73bd73b8cee995cc8d3a0b7c71ba6499 is not prime number \n",
      "0xf9787ccec163f423ea10fe7e43868797fa55aa5aad029d927fae9fbbb42d65ab is not prime number \n",
      "0x97b9e4ff6b2b0794f3eb9fd25040d238fe74074b6aff336c9201edb1cbb8d251 is not prime number \n",
      "0xd46de02cd4ef09a07797e44e7e4d7d218e91fe496790234f1fd232b5f964dde1 is not prime number \n",
      "0xd9679138a3bb95aa3f9ccc95f5da8ac07763cf2a86be1f98667413d2d3e1716f is not prime number \n",
      "0xbe85dd9ecffc2b0aad549511d457293f538d82e6eec44014bb2615ddfcb9debf is not prime number \n",
      "0xa371a236844bc1ebb35e0456ddd9944f18ae1aff527133f6321762a377141599 is not prime number \n",
      "0xf05954ef65f0f616da27f65653ed3a8caae1de5ec18c3792e1173d8c3667de73 is not prime number \n",
      "0xa4ce89b32665ffa0fc26cdeace999625b20ddef74c5dceda1687ee83f5a96895 is not prime number \n",
      "0xd5dbf699e6eedabe7079bc0da27fc420e200ebfc808d9ede041aa30d6dc4da31 is not prime number \n",
      "0xb197fda4f6597d6365ff84b7b9517f8d699c69b89938491d7b51e14f621207f3 is not prime number \n",
      "0xd75c045a6dd688c62c42cf66860dac4b17a4ee2e67a76eb20b77d9ad5b4c2e55 is not prime number \n",
      "0x8a14d593c98b3401d7deb2b137ff278e5ef33a2f5a8bd13f8990c6d58648cc0d is not prime number \n",
      "0xfebe97c0f5948eb94749c0505e6eb1cedd2fb9af41dd411d6da7575e84239591 is not prime number \n",
      "0x968f234339fa68bcfbfd2a57168d47f8b82f94583356352a6f130fe735d3e44b is not prime number \n",
      "0xdefaba8da91358de0437fdf94ffb322e3a23f266aabe4552c69eabecc7b81b15 is not prime number \n",
      "0x87330269819e11ebe9e0c4ef70eac16ad40efe7f4df5658a52cdd13bd886fb81 is not prime number \n",
      "0xc662827e5317600d0ae683ca520e88973deeecc99766a6551e30068fb8a5af55 is not prime number \n",
      "0xdc1d9730504161cfac3f2564b7de58475f49cc0c16136586cc8fce4d4a1d1d8f is not prime number \n",
      "0xc1a87b471a73f45268be1ea4293fc8749ae5fec0b2f017fe45e9a19d3c5a1ec1 is not prime number \n",
      "0xfc8ed52d4c94402e48aa83fb41526d1922f6f2fb668383f66006a64d0bd088bd is not prime number \n",
      "0xa0d9b3a49bd62a408bb93df41a72b739dcc9ad6fe9e2a2b9e7f3f7391013c11b is not prime number \n",
      "0xc61e2ec5696590acd5b9ee0b9013e242fb22087b149bb8c6bcfeac25bb40761d is not prime number \n",
      "0xc41721088336750693ce5a3a9c26036883ec5f626b90ceeafa561a9e96ed5bcf is not prime number \n",
      "0x951df7e88225d947a53794459bcc167e0ca3989052fe669c0dea5c2e832654cd is not prime number \n",
      "0xdf1862481eaa8263cf489074865547cfa3aaee3afcf4ed10ca709a27c915a9bf is not prime number \n",
      "0xb6a0f9e4d3008a5babf5a3fb8ed8988b60d4dd5d55653b586c1c750acffd48f5 is not prime number \n",
      "0x9732fb039c5878e56edbc0016305999cea9e5f9c2b8d5e0eb18ebb89bff6c16b is not prime number \n",
      "0x83257297e91393a5a7e8309a68ab07d179c8bd86aacd9d28a675cb58c2476a93 is not prime number \n",
      "0xcfd2460369a2f71158c5c845c1bdbad27eef4d5686b2fcf807409f58c8c47639 is not prime number \n",
      "0x98e2f476080c9b0cd494c0e87bca19c18a13bfd357e270e8efd8a6bb24681143 is not prime number \n",
      "0xf4f21f6d7cdb335904f34bd2a4d1b35fe56aaa34b2b6569fc2e55a236033ce85 is not prime number \n",
      "0xbf278f0dde4c9b9f1c5f96d40e7a832cbf6d19fa2d56eed3927dc6f6f9b93b93 is not prime number \n",
      "0xa2d88a781ce0800ec73359d70628f1ea7d3c9c3e92e302b0e2cd6aebc6d20829 is not prime number \n",
      "0xad33564162e88936628b127f7cbce99d6c28a6b5f712fb3d52dfe3f81923c1ab is not prime number \n",
      "0x8b7d009d091a81a0edf3785de064939857ed0be33956274452e9b0702dc8a3b1 is not prime number \n",
      "0xc7816db249fa12f9685e964a2b1321da107f9f40753ab41e23ecb81bccc3e283 is not prime number \n",
      "0xe7dd8ce1d7685bbfad7114f29adca7f859f049c74d953ac6857889c23bc564f9 is not prime number \n",
      "0xe5e0d59d0970ffaa1c88fb8a2ac9be5f4526d68d5faa37c61a31ed8ed7d4e765 is not prime number \n",
      "0x89b506aacbcc08e24a426a9f22b7777c047b562b31f790630341af359f5cd7c5 is not prime number \n",
      "0xb9aaedd2fc9ddfbbefc458fa4991919108e4a8e88dd739fb3d39e9da90370df1 is not prime number \n",
      "0xf3750436397f4d32b6e5aaa3e3b7829436dcbd21834763b66f4ce17b28254e0b is not prime number \n",
      "0x92394eb2b89913e862ae1f3e3de16ff89ae6af9c10184d55f3fecc8306445407 is not prime number \n",
      "0xfa6cfb45d076f60930761693c2aa342487692c0c6dd3ee02e84dd49eebdb3cd1 is not prime number \n",
      "0xea3b72ea34da6c97968b334b533c03e94a7d2d63d42f729ab95630e85d19ca8f is not prime number \n",
      "0x8c6c3b7b1640f74ad622d0e85951768723cc1c01ac8d8c4241e5ecc69f7cde6f is not prime number \n",
      "0xf3ba89acb17c7f24f4ea794a63848b797b53cbf0261004c652b890a8619b8ad7 is not prime number \n",
      "0xcf06c55e7a5a8115fc765458558761c25854cddddf0b4baf902961dbe31db415 is not prime number \n",
      "0xad70bfd529063430e887ee8ba3683e080828c472604274a72acc4fad12d24d73 is not prime number \n",
      "0x9d529895790944f0db48af7e6e35d138bb92a07ada54a5253d215d54068afa57 is not prime number \n",
      "0x8cad41a0f87c5328e8266a158b8e959c831c263d12a583b7e92745c5a3f1730b is not prime number \n",
      "0xde4e68f15799f22948475d69b0213d60e187faf275bef3a0965e8f97ab14397b is not prime number \n",
      "0xfd9b7629387e7127ddd8dbc53521e0440092d728ba5f8507a832294656d39cfd is not prime number \n",
      "0xd6db6f4ac3dbc4ae0131c2efce46de177db262babd333e4fd86112eedbc1957b is not prime number \n",
      "0x8ae406275313132b28bb2530b9f1d986c842431e6c3de8097f6cc9a54424ab0d is not prime number \n",
      "0x9adac2e006d5a69b4a6b830784051201e2251c2f3ab7465050f3ed58eef4f831 is not prime number \n",
      "0xb62316c2ca01086311b75286bfd74ef3348b522da9b7582ed42a5470273c1d19 is not prime number \n",
      "0x838db72cd2cd937427e28675a5db6d099c899bec60d17379ae29fba3b3762aa1 is not prime number \n",
      "0xba58b38fa9e2c6dee45d020685fb66530c28c38f5a37d4d9a237967b1003e007 is not prime number \n",
      "0xf904ab984d168f812759fd6df51d61fc9d8f2d3d21ee9a143facf2b94f14b645 is not prime number \n",
      "0x9510d1e7a2a53205e359013ffb39b65efe64b78d7fc30d5f84d883cc619f0b0d is not prime number \n",
      "0xf258922d808c657045d8498e4d618ce2e8bd9114df4bf6777ae1fc923bb43e95 is not prime number \n",
      "0xc605b5dc420b9142437fc288e6443af6cea3ff19117ce014ea821cd521c0f2c3 is not prime number \n",
      "0x983cf007c829f1a4ca59c82fd3fb1d3d80d0b7b20185444f33a83c55164f426b is not prime number \n",
      "0xf23866c3110fad41126e7cb52d049efc2c410f68595bbc6936321bca38b6ae51 is not prime number \n"
     ]
    },
    {
     "name": "stdout",
     "output_type": "stream",
     "text": [
      "0xcd9f80e651e7e6bfba5f7a2b9118d36518a9fdc9cda7fe32f8b17f749d8afdbb is not prime number \n",
      "0xf6a97da3c9d85348d34c391a25e8679ea9393d96c8cadfc13b1622d9291162a9 is not prime number \n",
      "0xbde36d935e67cde7cc075771ad6e009163e345797eb37316f357aa209b5775b9 is not prime number \n",
      "0xe56f4befa943acf9fd79385bff90a175a6225a885927a37d909bda9578dd4da3 is not prime number \n"
     ]
    }
   ],
   "source": [
    "pairs1.append([Generating_Random_Number(), Generating_Random_Number()])"
   ]
  },
  {
   "cell_type": "code",
   "execution_count": 25,
   "metadata": {
    "ExecuteTime": {
     "end_time": "2020-12-07T18:13:22.992202Z",
     "start_time": "2020-12-07T18:13:22.987204Z"
    }
   },
   "outputs": [],
   "source": [
    "my_keys1 = GenerateKeyPair(pairs1[0])"
   ]
  },
  {
   "cell_type": "code",
   "execution_count": 27,
   "metadata": {
    "ExecuteTime": {
     "end_time": "2020-12-07T18:22:43.444847Z",
     "start_time": "2020-12-07T18:22:43.430856Z"
    }
   },
   "outputs": [
    {
     "name": "stdout",
     "output_type": "stream",
     "text": [
      "my_keys:\n",
      "\n",
      "e:\n",
      " 0x6ff54717ec39a2de7eaa643b7dd013d2ecac39b6ea0bc90b26e14f5b1ef1a317368ec11a500f57f3b8c636c281473282fde611e74fe423c940550ba45e4d8f49 \n",
      "\n",
      "n:\n",
      " 0xca9affb4878a72aecd47403acca994396b1c5801bfe39cbbd531bfbd5ae6fcaa1d6a52caa63798c90c36eb2fafb82fb078ae2d64a8b23e0910fc1c977b3c4cc9 \n",
      "\n",
      "K1 = 0x18d87c963cb6f6e6af705ab9877b69d7f3c92aed28e8c680a231d36896d0ee46b1ac1804102497934d1f896fb0610559d8231bfb5ce677e7534b09d7cf404e62 \n",
      "\n",
      "S = 0x89e124abe42daf8dd47d38dd34eef4f053c89cfa5a21c14e457059b6971a80395c3c0ee7c62600e2158ad141d740b4428b3175c6972d0144dcb179bbaba6b1d9 \n",
      "\n",
      "S1 = 0x16c356abd35e1765803a9ae1f08660f15d3a0339c57af0ed69952c93a2c93167201923734cf31945d877ba44df9e355c8eaaddb1476f0b0050c131d8c292ae4e \n",
      "\n"
     ]
    },
    {
     "data": {
      "text/plain": [
       "[1301272332427355335812947106742134393181248757750352160577368238525821254482859722421431326313613762798246683726383164523116643120634501497758288470625890,\n",
       " 1192197206825747675209745614007802021167947268985908461244879203596996847725764323442391617361381939817708717722783082415197566157024473419619669256613454]"
      ]
     },
     "execution_count": 27,
     "metadata": {},
     "output_type": "execute_result"
    }
   ],
   "source": [
    "print('my_keys:\\n')\n",
    "print('e:\\n', hex(my_keys1[0][0]),'\\n')\n",
    "print('n:\\n', hex(my_keys1[0][1]),'\\n')\n",
    "#print('d:\\n', my_keys1[1][0],'\\n')\n",
    "\n",
    "x=[65537,10289912414436811493577718815173730165748511831357561589784312718805264743584101882054116107331284074659302663628173126577498194166633730590450561895302089]\n",
    "\n",
    "SendKey(my_keys1, x, 1234)\n"
   ]
  },
  {
   "cell_type": "code",
   "execution_count": 29,
   "metadata": {
    "ExecuteTime": {
     "end_time": "2020-12-07T18:33:09.734591Z",
     "start_time": "2020-12-07T18:33:09.727593Z"
    }
   },
   "outputs": [
    {
     "name": "stdout",
     "output_type": "stream",
     "text": [
      "d:\n",
      " 0x48feadec6d0dd8167be341d9771c055473a5cb757c3634d24ca227ca34373bdf2496f7bf2eb42e961c6077ed62f335bde6cd0ef06009fb6d1777ddac454778e9 \n",
      "\n"
     ]
    }
   ],
   "source": [
    "print('d:\\n', hex(my_keys1[1][0]),'\\n')"
   ]
  },
  {
   "cell_type": "code",
   "execution_count": null,
   "metadata": {},
   "outputs": [],
   "source": []
  },
  {
   "cell_type": "code",
   "execution_count": null,
   "metadata": {},
   "outputs": [],
   "source": []
  },
  {
   "cell_type": "code",
   "execution_count": null,
   "metadata": {},
   "outputs": [],
   "source": []
  }
 ],
 "metadata": {
  "kernelspec": {
   "display_name": "Python 3",
   "language": "python",
   "name": "python3"
  },
  "language_info": {
   "codemirror_mode": {
    "name": "ipython",
    "version": 3
   },
   "file_extension": ".py",
   "mimetype": "text/x-python",
   "name": "python",
   "nbconvert_exporter": "python",
   "pygments_lexer": "ipython3",
   "version": "3.7.0"
  }
 },
 "nbformat": 4,
 "nbformat_minor": 4
}
